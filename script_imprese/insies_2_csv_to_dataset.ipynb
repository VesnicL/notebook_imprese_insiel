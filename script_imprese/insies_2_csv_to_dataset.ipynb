{
 "cells": [
  {
   "cell_type": "markdown",
   "metadata": {},
   "source": [
    "# script per la conversione dei dati da file imprese_anagrafica.csv e imprese_codici.csv \n",
    "# a una serie di tabelle \"tidy\" adatte per creare un database "
   ]
  },
  {
   "cell_type": "markdown",
   "metadata": {},
   "source": [
    "i dati ..\n",
    "\n",
    " \n",
    "\n"
   ]
  },
  {
   "cell_type": "markdown",
   "metadata": {},
   "source": [
    "## setup\n",
    "\n"
   ]
  },
  {
   "cell_type": "code",
   "execution_count": 1,
   "metadata": {},
   "outputs": [],
   "source": [
    "# Setup\n",
    "import sys\n",
    "import os\n",
    "from pathlib import Path\n",
    "import datetime\n",
    "import pandas as pd\n",
    "pd.options.display.max_columns = None"
   ]
  },
  {
   "cell_type": "code",
   "execution_count": 2,
   "metadata": {},
   "outputs": [
    {
     "output_type": "stream",
     "name": "stdout",
     "text": [
      "['imprese_anagrafica.csv', 'imprese_codici.csv']\n"
     ]
    }
   ],
   "source": [
    "current_path = Path(os.getcwd())\n",
    "data_subdir = \"dati_imprese\"\n",
    "data_path = current_path.parent / data_subdir\n",
    "data_dir = str(data_path)\n",
    "listafile = os.listdir(data_path)\n",
    "listafile = list(filter(lambda x: 'imprese_' in x, listafile)) #filtra solo i file che contengono IMPRESE\n",
    "print(listafile)\n",
    "assert len(listafile) == 2, \"Ci sono più di due file imprese_*.csv\"\n",
    "\n"
   ]
  },
  {
   "source": [
    "## suddivisione dati in tabelle: "
   ],
   "cell_type": "markdown",
   "metadata": {}
  },
  {
   "cell_type": "code",
   "execution_count": 3,
   "metadata": {},
   "outputs": [
    {
     "output_type": "execute_result",
     "data": {
      "text/plain": [
       "['id_impresa',\n",
       " 'denominazione',\n",
       " 'cf',\n",
       " 'piva',\n",
       " 'reg_imp_sez',\n",
       " 'reg_imp_n',\n",
       " 'rea']"
      ]
     },
     "metadata": {},
     "execution_count": 3
    }
   ],
   "source": [
    "ALL_COLS =['id_localiz', 'id_impresa',\n",
    "       'denominazione', 'cf', 'piva', 'reg_imp_sez', 'reg_imp_n', 'rea', 'n-albo_art', \n",
    "       'prov', 'comune', 'sede_ul', 'ng2', 'ng_esteso', 'tipo_impresa',\n",
    "       'data_cost', 'data_isc_ri', 'data_isc_rd', 'data_isc_aa',\n",
    "       'data_fine_aa', 'data_ini_at', 'data_apert_ul', 'data_liquid',\n",
    "       'cancellazione', 'data_cess', 'fallimento', 'addetti_aaaa',\n",
    "       'addetti_indip', 'addetti_dip', 'capitale', 'capitale_valuta',\n",
    "       'descrizione_attivita', 'stato_impresa', 'tipo_localizzazione',\n",
    "       'tipo_sedeul_1', 'tipo_sedeul_2', 'tipo_sedeul_3', 'tipo_sedeul_4',\n",
    "       'tipo_sedeul_5', 'imp_sedi_ee', 'imp_eefvg', 'imp_pmi', 'imp_startup',\n",
    "       'imp_femmilile', 'imp_giovane', 'imp_straniera']\n",
    "\n",
    "cols_tab_loc = ['id_localiz', 'denominazione', 'cf', 'piva', 'reg_imp_sez', 'reg_imp_n', 'rea','n-albo_art', 'prov']\n",
    "\n",
    "cols_tab_l = ['id_impresa','comune', 'sede_ul', 'ng2', 'ng_esteso', 'tipo_impresa',]\n",
    "\n",
    "cols_dict_ng = ['ng2', 'ng_esteso', 'tipo_impresa']\n",
    "\n",
    "cols_to_use = ALL_COLS[0:7] \n",
    "\n",
    "cols_to_use"
   ]
  },
  {
   "cell_type": "code",
   "execution_count": 4,
   "metadata": {},
   "outputs": [],
   "source": [
    "filename = data_dir +'\\\\imprese_anagrafica.csv'\n",
    "df = pd.read_csv (  filename, \n",
    "                    sep = '|', \n",
    "                    dtype = str, \n",
    "                    usecols = cols_to_use,\n",
    "                    index_col = 'id_impresa' )\n"
   ]
  },
  {
   "cell_type": "code",
   "execution_count": 5,
   "metadata": {},
   "outputs": [
    {
     "output_type": "execute_result",
     "data": {
      "text/plain": [
       "                                                denominazione  \\\n",
       "id_impresa                                                      \n",
       "1           PELLIZZARI SILVIO DI SEVERINO PELLIZZARI E C. ...   \n",
       "2                          B.F.B. - CASA DI SPEDIZIONI S.R.L.   \n",
       "3                          B.F.B. - CASA DI SPEDIZIONI S.R.L.   \n",
       "4                          B.F.B. - CASA DI SPEDIZIONI S.R.L.   \n",
       "5           MOBILI BATTISTON & LOT - S.N.C. DI BATTISTON G...   \n",
       "...                                                       ...   \n",
       "127170                                        ZOZZOLI ANTONIO   \n",
       "127171                ESTETICA SAGITTARIO DI ZAZZERON ROBERTA   \n",
       "127172                                      ZAZZARINI ROBERTO   \n",
       "127173                                        ZOZZOLI SILVANA   \n",
       "127174                                        ZIZZUTTO THOMAS   \n",
       "\n",
       "                          cf         piva reg_imp_sez       reg_imp_n     rea  \n",
       "id_impresa                                                                     \n",
       "1                00000470310  00000470310           O      GO007-1352   37843  \n",
       "2                00002070324  00002070324           O      TS006-7084   65026  \n",
       "3                00002070324  00002070324           O      TS006-7084   65026  \n",
       "4                00002070324  00002070324           O      TS006-7084   65026  \n",
       "5                00002130938  00002130938           O      PN033-2369   18374  \n",
       "...                      ...          ...         ...             ...     ...  \n",
       "127170      ZZZNTN78H14L195O  02564170302         A-P    UD-2009-7369  270774  \n",
       "127171      ZZZRRT70L67L424I  01139490328         A-P    TS-2008-2532  127748  \n",
       "127172      ZZZRRT74D06Z700T  01353640939           P    PN-1998-2076   70327  \n",
       "127173      ZZZSVN46E60G381I  01721960308           P  UD-1997-169758  227639  \n",
       "127174      ZZZTMS74S21L483O  02104490301           P   UD-1999-22783  235833  \n",
       "\n",
       "[127174 rows x 6 columns]"
      ],
      "text/html": "<div>\n<style scoped>\n    .dataframe tbody tr th:only-of-type {\n        vertical-align: middle;\n    }\n\n    .dataframe tbody tr th {\n        vertical-align: top;\n    }\n\n    .dataframe thead th {\n        text-align: right;\n    }\n</style>\n<table border=\"1\" class=\"dataframe\">\n  <thead>\n    <tr style=\"text-align: right;\">\n      <th></th>\n      <th>denominazione</th>\n      <th>cf</th>\n      <th>piva</th>\n      <th>reg_imp_sez</th>\n      <th>reg_imp_n</th>\n      <th>rea</th>\n    </tr>\n    <tr>\n      <th>id_impresa</th>\n      <th></th>\n      <th></th>\n      <th></th>\n      <th></th>\n      <th></th>\n      <th></th>\n    </tr>\n  </thead>\n  <tbody>\n    <tr>\n      <th>1</th>\n      <td>PELLIZZARI SILVIO DI SEVERINO PELLIZZARI E C. ...</td>\n      <td>00000470310</td>\n      <td>00000470310</td>\n      <td>O</td>\n      <td>GO007-1352</td>\n      <td>37843</td>\n    </tr>\n    <tr>\n      <th>2</th>\n      <td>B.F.B. - CASA DI SPEDIZIONI S.R.L.</td>\n      <td>00002070324</td>\n      <td>00002070324</td>\n      <td>O</td>\n      <td>TS006-7084</td>\n      <td>65026</td>\n    </tr>\n    <tr>\n      <th>3</th>\n      <td>B.F.B. - CASA DI SPEDIZIONI S.R.L.</td>\n      <td>00002070324</td>\n      <td>00002070324</td>\n      <td>O</td>\n      <td>TS006-7084</td>\n      <td>65026</td>\n    </tr>\n    <tr>\n      <th>4</th>\n      <td>B.F.B. - CASA DI SPEDIZIONI S.R.L.</td>\n      <td>00002070324</td>\n      <td>00002070324</td>\n      <td>O</td>\n      <td>TS006-7084</td>\n      <td>65026</td>\n    </tr>\n    <tr>\n      <th>5</th>\n      <td>MOBILI BATTISTON &amp; LOT - S.N.C. DI BATTISTON G...</td>\n      <td>00002130938</td>\n      <td>00002130938</td>\n      <td>O</td>\n      <td>PN033-2369</td>\n      <td>18374</td>\n    </tr>\n    <tr>\n      <th>...</th>\n      <td>...</td>\n      <td>...</td>\n      <td>...</td>\n      <td>...</td>\n      <td>...</td>\n      <td>...</td>\n    </tr>\n    <tr>\n      <th>127170</th>\n      <td>ZOZZOLI ANTONIO</td>\n      <td>ZZZNTN78H14L195O</td>\n      <td>02564170302</td>\n      <td>A-P</td>\n      <td>UD-2009-7369</td>\n      <td>270774</td>\n    </tr>\n    <tr>\n      <th>127171</th>\n      <td>ESTETICA SAGITTARIO DI ZAZZERON ROBERTA</td>\n      <td>ZZZRRT70L67L424I</td>\n      <td>01139490328</td>\n      <td>A-P</td>\n      <td>TS-2008-2532</td>\n      <td>127748</td>\n    </tr>\n    <tr>\n      <th>127172</th>\n      <td>ZAZZARINI ROBERTO</td>\n      <td>ZZZRRT74D06Z700T</td>\n      <td>01353640939</td>\n      <td>P</td>\n      <td>PN-1998-2076</td>\n      <td>70327</td>\n    </tr>\n    <tr>\n      <th>127173</th>\n      <td>ZOZZOLI SILVANA</td>\n      <td>ZZZSVN46E60G381I</td>\n      <td>01721960308</td>\n      <td>P</td>\n      <td>UD-1997-169758</td>\n      <td>227639</td>\n    </tr>\n    <tr>\n      <th>127174</th>\n      <td>ZIZZUTTO THOMAS</td>\n      <td>ZZZTMS74S21L483O</td>\n      <td>02104490301</td>\n      <td>P</td>\n      <td>UD-1999-22783</td>\n      <td>235833</td>\n    </tr>\n  </tbody>\n</table>\n<p>127174 rows × 6 columns</p>\n</div>"
     },
     "metadata": {},
     "execution_count": 5
    }
   ],
   "source": [
    "\n",
    "df"
   ]
  },
  {
   "cell_type": "code",
   "execution_count": null,
   "metadata": {
    "tags": []
   },
   "outputs": [],
   "source": [
    "#semplice elenco di cf con duplicati\n",
    "cf_list_all = df['cf'].tolist()\n",
    "print(len(cf_list_all))\n",
    "\n",
    "#elenco cf senza duplicati\n",
    "cf_list_unique = df['cf'].unique().tolist()\n",
    "print(len(cf_list_unique))\n",
    "\n"
   ]
  },
  {
   "cell_type": "code",
   "execution_count": null,
   "metadata": {},
   "outputs": [],
   "source": [
    "#i dati consentono di avere un id univoco per le imprese?\n",
    "#il dataset è costruito con cf univoco.\n",
    "df['x']= df['cf']+'_'+df['piva'] \n",
    "df['y']= df['cf']==df['piva']\n",
    " "
   ]
  },
  {
   "cell_type": "code",
   "execution_count": null,
   "metadata": {},
   "outputs": [],
   "source": [
    "print(df.shape[0])\n",
    "df.nunique()"
   ]
  },
  {
   "cell_type": "code",
   "execution_count": null,
   "metadata": {},
   "outputs": [],
   "source": [
    "df"
   ]
  },
  {
   "cell_type": "code",
   "execution_count": null,
   "metadata": {},
   "outputs": [],
   "source": [
    "categorie =  cols_to_use\n",
    "df1 = df.groupby('cf').first() \n"
   ]
  },
  {
   "cell_type": "code",
   "execution_count": null,
   "metadata": {},
   "outputs": [],
   "source": [
    "df1\n"
   ]
  },
  {
   "cell_type": "code",
   "execution_count": null,
   "metadata": {},
   "outputs": [],
   "source": [
    "df1.nunique()"
   ]
  },
  {
   "cell_type": "code",
   "execution_count": null,
   "metadata": {},
   "outputs": [],
   "source": [
    "file_risultati  = data_dir + '\\\\' + 'dati_id.csv'\r\n",
    "df1.to_csv(file_risultati, \r\n",
    "                    sep ='|',   \r\n",
    "                    encoding='utf-8-sig', \r\n",
    "                    index=False)"
   ]
  },
  {
   "cell_type": "code",
   "execution_count": null,
   "metadata": {},
   "outputs": [],
   "source": []
  }
 ],
 "metadata": {
  "kernelspec": {
   "name": "python394jvsc74a57bd046c56b00a886f01d69e776668ca12acc0de9f7c8f388e5060811cd7865d8f9b3",
   "display_name": "Python 3.9.4 64-bit"
  },
  "language_info": {
   "codemirror_mode": {
    "name": "ipython",
    "version": 3
   },
   "file_extension": ".py",
   "mimetype": "text/x-python",
   "name": "python",
   "nbconvert_exporter": "python",
   "pygments_lexer": "ipython3",
   "version": "3.9.4"
  },
  "latex_envs": {
   "LaTeX_envs_menu_present": true,
   "autoclose": false,
   "autocomplete": true,
   "bibliofile": "biblio.bib",
   "cite_by": "apalike",
   "current_citInitial": 1,
   "eqLabelWithNumbers": true,
   "eqNumInitial": 1,
   "hotkeys": {
    "equation": "Ctrl-E",
    "itemize": "Ctrl-I"
   },
   "labels_anchors": false,
   "latex_user_defs": false,
   "report_style_numbering": false,
   "user_envs_cfg": false
  },
  "toc": {
   "base_numbering": 1,
   "nav_menu": {},
   "number_sections": true,
   "sideBar": true,
   "skip_h1_title": false,
   "title_cell": "Table of Contents",
   "title_sidebar": "Contents",
   "toc_cell": false,
   "toc_position": {},
   "toc_section_display": true,
   "toc_window_display": false
  },
  "toc-autonumbering": true,
  "toc-showcode": false,
  "toc-showmarkdowntxt": false,
  "toc-showtags": false,
  "metadata": {
   "interpreter": {
    "hash": "46c56b00a886f01d69e776668ca12acc0de9f7c8f388e5060811cd7865d8f9b3"
   }
  }
 },
 "nbformat": 4,
 "nbformat_minor": 4
}