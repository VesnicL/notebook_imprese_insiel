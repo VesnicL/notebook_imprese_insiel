{
 "cells": [
  {
   "cell_type": "markdown",
   "metadata": {},
   "source": [
    "# script per generare id impresa univoco e pseudonimizzato"
   ]
  },
  {
   "cell_type": "markdown",
   "metadata": {},
   "source": [
    "i dati ..\n",
    "\n",
    " \n",
    "\n"
   ]
  },
  {
   "cell_type": "markdown",
   "metadata": {},
   "source": [
    "## setup\n",
    "\n"
   ]
  },
  {
   "cell_type": "code",
   "execution_count": 1,
   "metadata": {},
   "outputs": [],
   "source": [
    "# Setup\n",
    "import sys\n",
    "import os\n",
    "from pathlib import Path\n",
    "import datetime\n",
    "import pandas as pd\n",
    "pd.options.display.max_columns = None"
   ]
  },
  {
   "cell_type": "code",
   "execution_count": 2,
   "metadata": {},
   "outputs": [
    {
     "output_type": "stream",
     "name": "stdout",
     "text": [
      "['imprese_anagrafica.csv', 'imprese_codici.csv']\n"
     ]
    }
   ],
   "source": [
    "current_path = Path(os.getcwd())\n",
    "data_subdir = \"dati_imprese\"\n",
    "data_path = current_path.parent / data_subdir\n",
    "data_dir = str(data_path)\n",
    "listafile = os.listdir(data_path)\n",
    "listafile = list(filter(lambda x: 'imprese_' in x, listafile)) #filtra solo i file che contengono IMPRESE\n",
    "print(listafile)\n",
    "assert len(listafile) == 2, \"Ci sono più di due file imprese_*.csv\"\n",
    "\n"
   ]
  },
  {
   "source": [
    "## genero la tabella 1: identificazione univoca delle imprese con CF\n"
   ],
   "cell_type": "markdown",
   "metadata": {}
  },
  {
   "cell_type": "code",
   "execution_count": 3,
   "metadata": {},
   "outputs": [
    {
     "output_type": "execute_result",
     "data": {
      "text/plain": [
       "['data_isc_ri', 'data_isc_rd', 'data_isc_aa', 'data_apert_ul', 'data_ini_at']"
      ]
     },
     "metadata": {},
     "execution_count": 3
    }
   ],
   "source": [
    "cols_date = ['data_isc_ri', 'data_isc_rd', 'data_isc_aa', 'data_apert_ul', 'data_ini_at']\n",
    "cols_to_use =   ['cf'] + cols_date\n",
    "dtypes = [ 'str','str','str','str','str'  ,'str' ,'str' ]\n",
    "\n",
    "cols_date\n",
    " "
   ]
  },
  {
   "cell_type": "code",
   "execution_count": 4,
   "metadata": {},
   "outputs": [
    {
     "output_type": "execute_result",
     "data": {
      "text/plain": [
       "                      cf          data_isc_ri          data_isc_rd  \\\n",
       "0            00000470310  4996-02-19 00:00:00  4975-01-14 00:00:00   \n",
       "1            00002070324  4996-02-19 00:00:00  4969-01-30 00:00:00   \n",
       "2            00002070324  4996-02-19 00:00:00  4969-01-30 00:00:00   \n",
       "3            00002070324  4996-02-19 00:00:00  4969-01-30 00:00:00   \n",
       "4            00002130938  4996-02-19 00:00:00  4973-10-31 00:00:00   \n",
       "...                  ...                  ...                  ...   \n",
       "127169  ZZZNTN78H14L195O  5009-03-10 00:00:00  5009-03-10 00:00:00   \n",
       "127170  ZZZRRT70L67L424I  5008-02-21 00:00:00  5008-02-19 00:00:00   \n",
       "127171  ZZZRRT74D06Z700T  4998-01-27 00:00:00  4998-01-15 00:00:00   \n",
       "127172  ZZZSVN46E60G381I  4996-12-02 00:00:00  4996-12-02 00:00:00   \n",
       "127173  ZZZTMS74S21L483O  4999-08-20 00:00:00  4999-08-19 00:00:00   \n",
       "\n",
       "                data_isc_aa          data_ini_at        data_apert_ul  \n",
       "0                       NaT                  NaT                  NaT  \n",
       "1                       NaT  4969-01-30 00:00:00                  NaT  \n",
       "2                       NaT                  NaT  5007-08-01 00:00:00  \n",
       "3                       NaT                  NaT  5015-10-15 00:00:00  \n",
       "4                       NaT                  NaT                  NaT  \n",
       "...                     ...                  ...                  ...  \n",
       "127169  5009-03-10 00:00:00  5009-03-10 00:00:00                  NaT  \n",
       "127170  5008-02-01 00:00:00  5008-02-01 00:00:00                  NaT  \n",
       "127171                  NaT  4998-01-01 00:00:00                  NaT  \n",
       "127172                  NaT  4991-03-09 00:00:00                  NaT  \n",
       "127173                  NaT  4999-08-17 00:00:00                  NaT  \n",
       "\n",
       "[127174 rows x 6 columns]"
      ],
      "text/html": "<div>\n<style scoped>\n    .dataframe tbody tr th:only-of-type {\n        vertical-align: middle;\n    }\n\n    .dataframe tbody tr th {\n        vertical-align: top;\n    }\n\n    .dataframe thead th {\n        text-align: right;\n    }\n</style>\n<table border=\"1\" class=\"dataframe\">\n  <thead>\n    <tr style=\"text-align: right;\">\n      <th></th>\n      <th>cf</th>\n      <th>data_isc_ri</th>\n      <th>data_isc_rd</th>\n      <th>data_isc_aa</th>\n      <th>data_ini_at</th>\n      <th>data_apert_ul</th>\n    </tr>\n  </thead>\n  <tbody>\n    <tr>\n      <th>0</th>\n      <td>00000470310</td>\n      <td>4996-02-19 00:00:00</td>\n      <td>4975-01-14 00:00:00</td>\n      <td>NaT</td>\n      <td>NaT</td>\n      <td>NaT</td>\n    </tr>\n    <tr>\n      <th>1</th>\n      <td>00002070324</td>\n      <td>4996-02-19 00:00:00</td>\n      <td>4969-01-30 00:00:00</td>\n      <td>NaT</td>\n      <td>4969-01-30 00:00:00</td>\n      <td>NaT</td>\n    </tr>\n    <tr>\n      <th>2</th>\n      <td>00002070324</td>\n      <td>4996-02-19 00:00:00</td>\n      <td>4969-01-30 00:00:00</td>\n      <td>NaT</td>\n      <td>NaT</td>\n      <td>5007-08-01 00:00:00</td>\n    </tr>\n    <tr>\n      <th>3</th>\n      <td>00002070324</td>\n      <td>4996-02-19 00:00:00</td>\n      <td>4969-01-30 00:00:00</td>\n      <td>NaT</td>\n      <td>NaT</td>\n      <td>5015-10-15 00:00:00</td>\n    </tr>\n    <tr>\n      <th>4</th>\n      <td>00002130938</td>\n      <td>4996-02-19 00:00:00</td>\n      <td>4973-10-31 00:00:00</td>\n      <td>NaT</td>\n      <td>NaT</td>\n      <td>NaT</td>\n    </tr>\n    <tr>\n      <th>...</th>\n      <td>...</td>\n      <td>...</td>\n      <td>...</td>\n      <td>...</td>\n      <td>...</td>\n      <td>...</td>\n    </tr>\n    <tr>\n      <th>127169</th>\n      <td>ZZZNTN78H14L195O</td>\n      <td>5009-03-10 00:00:00</td>\n      <td>5009-03-10 00:00:00</td>\n      <td>5009-03-10 00:00:00</td>\n      <td>5009-03-10 00:00:00</td>\n      <td>NaT</td>\n    </tr>\n    <tr>\n      <th>127170</th>\n      <td>ZZZRRT70L67L424I</td>\n      <td>5008-02-21 00:00:00</td>\n      <td>5008-02-19 00:00:00</td>\n      <td>5008-02-01 00:00:00</td>\n      <td>5008-02-01 00:00:00</td>\n      <td>NaT</td>\n    </tr>\n    <tr>\n      <th>127171</th>\n      <td>ZZZRRT74D06Z700T</td>\n      <td>4998-01-27 00:00:00</td>\n      <td>4998-01-15 00:00:00</td>\n      <td>NaT</td>\n      <td>4998-01-01 00:00:00</td>\n      <td>NaT</td>\n    </tr>\n    <tr>\n      <th>127172</th>\n      <td>ZZZSVN46E60G381I</td>\n      <td>4996-12-02 00:00:00</td>\n      <td>4996-12-02 00:00:00</td>\n      <td>NaT</td>\n      <td>4991-03-09 00:00:00</td>\n      <td>NaT</td>\n    </tr>\n    <tr>\n      <th>127173</th>\n      <td>ZZZTMS74S21L483O</td>\n      <td>4999-08-20 00:00:00</td>\n      <td>4999-08-19 00:00:00</td>\n      <td>NaT</td>\n      <td>4999-08-17 00:00:00</td>\n      <td>NaT</td>\n    </tr>\n  </tbody>\n</table>\n<p>127174 rows × 6 columns</p>\n</div>"
     },
     "metadata": {},
     "execution_count": 4
    }
   ],
   "source": [
    "filename = data_dir +'\\\\imprese_anagrafica.csv'\n",
    "df = pd.read_csv (  filename, \n",
    "                    sep = '|', \n",
    "                    usecols = cols_to_use ,\n",
    "                    dtype=str,\n",
    "                    keep_default_na=False              \n",
    ")\n",
    "df.replace('', 'NaT', inplace=True)\n",
    "df.replace('#ERRORE', 'NaT', inplace=True)\n",
    "df\n"
   ]
  },
  {
   "cell_type": "code",
   "execution_count": 5,
   "metadata": {},
   "outputs": [
    {
     "output_type": "stream",
     "name": "stdout",
     "text": [
      "<class 'pandas.core.frame.DataFrame'>\nRangeIndex: 127174 entries, 0 to 127173\nData columns (total 6 columns):\n #   Column         Non-Null Count   Dtype \n---  ------         --------------   ----- \n 0   cf             127174 non-null  object\n 1   data_isc_ri    127174 non-null  object\n 2   data_isc_rd    127174 non-null  object\n 3   data_isc_aa    127174 non-null  object\n 4   data_ini_at    127174 non-null  object\n 5   data_apert_ul  127174 non-null  object\ndtypes: object(6)\nmemory usage: 5.8+ MB\n"
     ]
    }
   ],
   "source": [
    "df.info()"
   ]
  },
  {
   "cell_type": "code",
   "execution_count": 6,
   "metadata": {
    "tags": []
   },
   "outputs": [
    {
     "output_type": "stream",
     "name": "stdout",
     "text": [
      "Valori non coerenti  3013-02-01 00:00:00\n",
      "Valori non coerenti  5105-02-28 00:00:00\n",
      "Valori non coerenti  4595-01-01 00:00:00\n",
      "Valori non coerenti  5102-02-22 00:00:00\n",
      "Valori non coerenti  3202-02-02 00:00:00\n",
      "Valori non coerenti  3215-01-31 00:00:00\n",
      "Valori non coerenti  3195-08-01 00:00:00\n",
      "Valori non coerenti  6007-02-09 00:00:00\n"
     ]
    }
   ],
   "source": [
    "#anni spostati di +3000\n",
    "#da rifare con fillna per i valori nulli e con list comprehension per velocità\n",
    "lista_date_impossibili = []\n",
    "\n",
    "for index, row in df.iterrows():\n",
    "    for col in cols_date:\n",
    "        #print(index, row, col)\n",
    "        \n",
    "        item = df.loc[index, col]\n",
    "        #print(item)\n",
    "        if isinstance(item, str):\n",
    "            temp = item[0:2]  \n",
    "            #print(temp) \n",
    "        else:\n",
    "            break\n",
    "        \n",
    "        if temp == 'Na':\n",
    "            pass#print(col,temp,row[col] )\n",
    "        elif temp == '48':\n",
    "            df.loc[index, col] = str('18') + str(df.loc[index, col][2:10])\n",
    "        elif temp == '49':\n",
    "            df.loc[index, col] = str('19') + str(df.loc[index, col][2:10])\n",
    "        elif temp == '50':\n",
    "            df.loc[index, col] = str('20') + str(df.loc[index, col][2:10])\n",
    "        else:\n",
    "            print('Valori non coerenti ', item)\n",
    "            lista_date_impossibili.append(item)\n",
    "            df.loc[index, col] = 'NaT'\n",
    "\n",
    "             \n",
    "        \n"
   ]
  },
  {
   "cell_type": "code",
   "execution_count": 7,
   "metadata": {},
   "outputs": [
    {
     "output_type": "execute_result",
     "data": {
      "text/plain": [
       "                      cf data_isc_ri data_isc_rd data_isc_aa data_ini_at  \\\n",
       "0            00000470310  1996-02-19  1975-01-14         NaT         NaT   \n",
       "1            00002070324  1996-02-19  1969-01-30         NaT  1969-01-30   \n",
       "2            00002070324  1996-02-19  1969-01-30         NaT         NaT   \n",
       "3            00002070324  1996-02-19  1969-01-30         NaT         NaT   \n",
       "4            00002130938  1996-02-19  1973-10-31         NaT         NaT   \n",
       "...                  ...         ...         ...         ...         ...   \n",
       "127169  ZZZNTN78H14L195O  2009-03-10  2009-03-10  2009-03-10  2009-03-10   \n",
       "127170  ZZZRRT70L67L424I  2008-02-21  2008-02-19  2008-02-01  2008-02-01   \n",
       "127171  ZZZRRT74D06Z700T  1998-01-27  1998-01-15         NaT  1998-01-01   \n",
       "127172  ZZZSVN46E60G381I  1996-12-02  1996-12-02         NaT  1991-03-09   \n",
       "127173  ZZZTMS74S21L483O  1999-08-20  1999-08-19         NaT  1999-08-17   \n",
       "\n",
       "       data_apert_ul  \n",
       "0                NaT  \n",
       "1                NaT  \n",
       "2         2007-08-01  \n",
       "3         2015-10-15  \n",
       "4                NaT  \n",
       "...              ...  \n",
       "127169           NaT  \n",
       "127170           NaT  \n",
       "127171           NaT  \n",
       "127172           NaT  \n",
       "127173           NaT  \n",
       "\n",
       "[127174 rows x 6 columns]"
      ],
      "text/html": "<div>\n<style scoped>\n    .dataframe tbody tr th:only-of-type {\n        vertical-align: middle;\n    }\n\n    .dataframe tbody tr th {\n        vertical-align: top;\n    }\n\n    .dataframe thead th {\n        text-align: right;\n    }\n</style>\n<table border=\"1\" class=\"dataframe\">\n  <thead>\n    <tr style=\"text-align: right;\">\n      <th></th>\n      <th>cf</th>\n      <th>data_isc_ri</th>\n      <th>data_isc_rd</th>\n      <th>data_isc_aa</th>\n      <th>data_ini_at</th>\n      <th>data_apert_ul</th>\n    </tr>\n  </thead>\n  <tbody>\n    <tr>\n      <th>0</th>\n      <td>00000470310</td>\n      <td>1996-02-19</td>\n      <td>1975-01-14</td>\n      <td>NaT</td>\n      <td>NaT</td>\n      <td>NaT</td>\n    </tr>\n    <tr>\n      <th>1</th>\n      <td>00002070324</td>\n      <td>1996-02-19</td>\n      <td>1969-01-30</td>\n      <td>NaT</td>\n      <td>1969-01-30</td>\n      <td>NaT</td>\n    </tr>\n    <tr>\n      <th>2</th>\n      <td>00002070324</td>\n      <td>1996-02-19</td>\n      <td>1969-01-30</td>\n      <td>NaT</td>\n      <td>NaT</td>\n      <td>2007-08-01</td>\n    </tr>\n    <tr>\n      <th>3</th>\n      <td>00002070324</td>\n      <td>1996-02-19</td>\n      <td>1969-01-30</td>\n      <td>NaT</td>\n      <td>NaT</td>\n      <td>2015-10-15</td>\n    </tr>\n    <tr>\n      <th>4</th>\n      <td>00002130938</td>\n      <td>1996-02-19</td>\n      <td>1973-10-31</td>\n      <td>NaT</td>\n      <td>NaT</td>\n      <td>NaT</td>\n    </tr>\n    <tr>\n      <th>...</th>\n      <td>...</td>\n      <td>...</td>\n      <td>...</td>\n      <td>...</td>\n      <td>...</td>\n      <td>...</td>\n    </tr>\n    <tr>\n      <th>127169</th>\n      <td>ZZZNTN78H14L195O</td>\n      <td>2009-03-10</td>\n      <td>2009-03-10</td>\n      <td>2009-03-10</td>\n      <td>2009-03-10</td>\n      <td>NaT</td>\n    </tr>\n    <tr>\n      <th>127170</th>\n      <td>ZZZRRT70L67L424I</td>\n      <td>2008-02-21</td>\n      <td>2008-02-19</td>\n      <td>2008-02-01</td>\n      <td>2008-02-01</td>\n      <td>NaT</td>\n    </tr>\n    <tr>\n      <th>127171</th>\n      <td>ZZZRRT74D06Z700T</td>\n      <td>1998-01-27</td>\n      <td>1998-01-15</td>\n      <td>NaT</td>\n      <td>1998-01-01</td>\n      <td>NaT</td>\n    </tr>\n    <tr>\n      <th>127172</th>\n      <td>ZZZSVN46E60G381I</td>\n      <td>1996-12-02</td>\n      <td>1996-12-02</td>\n      <td>NaT</td>\n      <td>1991-03-09</td>\n      <td>NaT</td>\n    </tr>\n    <tr>\n      <th>127173</th>\n      <td>ZZZTMS74S21L483O</td>\n      <td>1999-08-20</td>\n      <td>1999-08-19</td>\n      <td>NaT</td>\n      <td>1999-08-17</td>\n      <td>NaT</td>\n    </tr>\n  </tbody>\n</table>\n<p>127174 rows × 6 columns</p>\n</div>"
     },
     "metadata": {},
     "execution_count": 7
    }
   ],
   "source": [
    "for col in cols_date:\n",
    "    df[col] = pd.to_datetime(df[col])\n",
    "\n",
    "df"
   ]
  },
  {
   "cell_type": "code",
   "execution_count": 8,
   "metadata": {},
   "outputs": [
    {
     "output_type": "execute_result",
     "data": {
      "text/plain": [
       "['3013-02-01 00:00:00',\n",
       " '5105-02-28 00:00:00',\n",
       " '4595-01-01 00:00:00',\n",
       " '5102-02-22 00:00:00',\n",
       " '3202-02-02 00:00:00',\n",
       " '3215-01-31 00:00:00',\n",
       " '3195-08-01 00:00:00',\n",
       " '6007-02-09 00:00:00']"
      ]
     },
     "metadata": {},
     "execution_count": 8
    }
   ],
   "source": [
    "lista_date_impossibili"
   ]
  },
  {
   "cell_type": "code",
   "execution_count": 9,
   "metadata": {},
   "outputs": [
    {
     "output_type": "execute_result",
     "data": {
      "text/plain": [
       "                      cf data_isc_ri data_isc_rd data_isc_aa data_ini_at  \\\n",
       "0            00000470310  1996-02-19  1975-01-14         NaT         NaT   \n",
       "1            00002070324  1996-02-19  1969-01-30         NaT  1969-01-30   \n",
       "2            00002070324  1996-02-19  1969-01-30         NaT         NaT   \n",
       "3            00002070324  1996-02-19  1969-01-30         NaT         NaT   \n",
       "4            00002130938  1996-02-19  1973-10-31         NaT         NaT   \n",
       "...                  ...         ...         ...         ...         ...   \n",
       "127169  ZZZNTN78H14L195O  2009-03-10  2009-03-10  2009-03-10  2009-03-10   \n",
       "127170  ZZZRRT70L67L424I  2008-02-21  2008-02-19  2008-02-01  2008-02-01   \n",
       "127171  ZZZRRT74D06Z700T  1998-01-27  1998-01-15         NaT  1998-01-01   \n",
       "127172  ZZZSVN46E60G381I  1996-12-02  1996-12-02         NaT  1991-03-09   \n",
       "127173  ZZZTMS74S21L483O  1999-08-20  1999-08-19         NaT  1999-08-17   \n",
       "\n",
       "       data_apert_ul   min_date  \n",
       "0                NaT 1975-01-14  \n",
       "1                NaT 1969-01-30  \n",
       "2         2007-08-01 1969-01-30  \n",
       "3         2015-10-15 1969-01-30  \n",
       "4                NaT 1973-10-31  \n",
       "...              ...        ...  \n",
       "127169           NaT 2009-03-10  \n",
       "127170           NaT 2008-02-01  \n",
       "127171           NaT 1998-01-01  \n",
       "127172           NaT 1991-03-09  \n",
       "127173           NaT 1999-08-17  \n",
       "\n",
       "[127174 rows x 7 columns]"
      ],
      "text/html": "<div>\n<style scoped>\n    .dataframe tbody tr th:only-of-type {\n        vertical-align: middle;\n    }\n\n    .dataframe tbody tr th {\n        vertical-align: top;\n    }\n\n    .dataframe thead th {\n        text-align: right;\n    }\n</style>\n<table border=\"1\" class=\"dataframe\">\n  <thead>\n    <tr style=\"text-align: right;\">\n      <th></th>\n      <th>cf</th>\n      <th>data_isc_ri</th>\n      <th>data_isc_rd</th>\n      <th>data_isc_aa</th>\n      <th>data_ini_at</th>\n      <th>data_apert_ul</th>\n      <th>min_date</th>\n    </tr>\n  </thead>\n  <tbody>\n    <tr>\n      <th>0</th>\n      <td>00000470310</td>\n      <td>1996-02-19</td>\n      <td>1975-01-14</td>\n      <td>NaT</td>\n      <td>NaT</td>\n      <td>NaT</td>\n      <td>1975-01-14</td>\n    </tr>\n    <tr>\n      <th>1</th>\n      <td>00002070324</td>\n      <td>1996-02-19</td>\n      <td>1969-01-30</td>\n      <td>NaT</td>\n      <td>1969-01-30</td>\n      <td>NaT</td>\n      <td>1969-01-30</td>\n    </tr>\n    <tr>\n      <th>2</th>\n      <td>00002070324</td>\n      <td>1996-02-19</td>\n      <td>1969-01-30</td>\n      <td>NaT</td>\n      <td>NaT</td>\n      <td>2007-08-01</td>\n      <td>1969-01-30</td>\n    </tr>\n    <tr>\n      <th>3</th>\n      <td>00002070324</td>\n      <td>1996-02-19</td>\n      <td>1969-01-30</td>\n      <td>NaT</td>\n      <td>NaT</td>\n      <td>2015-10-15</td>\n      <td>1969-01-30</td>\n    </tr>\n    <tr>\n      <th>4</th>\n      <td>00002130938</td>\n      <td>1996-02-19</td>\n      <td>1973-10-31</td>\n      <td>NaT</td>\n      <td>NaT</td>\n      <td>NaT</td>\n      <td>1973-10-31</td>\n    </tr>\n    <tr>\n      <th>...</th>\n      <td>...</td>\n      <td>...</td>\n      <td>...</td>\n      <td>...</td>\n      <td>...</td>\n      <td>...</td>\n      <td>...</td>\n    </tr>\n    <tr>\n      <th>127169</th>\n      <td>ZZZNTN78H14L195O</td>\n      <td>2009-03-10</td>\n      <td>2009-03-10</td>\n      <td>2009-03-10</td>\n      <td>2009-03-10</td>\n      <td>NaT</td>\n      <td>2009-03-10</td>\n    </tr>\n    <tr>\n      <th>127170</th>\n      <td>ZZZRRT70L67L424I</td>\n      <td>2008-02-21</td>\n      <td>2008-02-19</td>\n      <td>2008-02-01</td>\n      <td>2008-02-01</td>\n      <td>NaT</td>\n      <td>2008-02-01</td>\n    </tr>\n    <tr>\n      <th>127171</th>\n      <td>ZZZRRT74D06Z700T</td>\n      <td>1998-01-27</td>\n      <td>1998-01-15</td>\n      <td>NaT</td>\n      <td>1998-01-01</td>\n      <td>NaT</td>\n      <td>1998-01-01</td>\n    </tr>\n    <tr>\n      <th>127172</th>\n      <td>ZZZSVN46E60G381I</td>\n      <td>1996-12-02</td>\n      <td>1996-12-02</td>\n      <td>NaT</td>\n      <td>1991-03-09</td>\n      <td>NaT</td>\n      <td>1991-03-09</td>\n    </tr>\n    <tr>\n      <th>127173</th>\n      <td>ZZZTMS74S21L483O</td>\n      <td>1999-08-20</td>\n      <td>1999-08-19</td>\n      <td>NaT</td>\n      <td>1999-08-17</td>\n      <td>NaT</td>\n      <td>1999-08-17</td>\n    </tr>\n  </tbody>\n</table>\n<p>127174 rows × 7 columns</p>\n</div>"
     },
     "metadata": {},
     "execution_count": 9
    }
   ],
   "source": [
    "df['min_date'] = df[cols_date].min(axis=1)\n",
    "df"
   ]
  },
  {
   "cell_type": "code",
   "execution_count": 10,
   "metadata": {},
   "outputs": [
    {
     "output_type": "execute_result",
     "data": {
      "text/plain": [
       "Timestamp('1800-01-01 00:00:00')"
      ]
     },
     "metadata": {},
     "execution_count": 10
    }
   ],
   "source": [
    "mindate = min(df.min_date)\n",
    "mindate\n",
    "\n",
    "\n",
    "# calcola una data iniziale\n",
    "# ordina in base alla data\n",
    "#poi crea l'elenco di cf unique ordinato in base alla data"
   ]
  },
  {
   "cell_type": "code",
   "execution_count": 11,
   "metadata": {},
   "outputs": [
    {
     "output_type": "execute_result",
     "data": {
      "text/plain": [
       "Timestamp('2021-04-12 00:00:00')"
      ]
     },
     "metadata": {},
     "execution_count": 11
    }
   ],
   "source": [
    "maxdate = max(df.min_date)\n",
    "maxdate"
   ]
  },
  {
   "cell_type": "code",
   "execution_count": 12,
   "metadata": {},
   "outputs": [
    {
     "output_type": "stream",
     "name": "stdout",
     "text": [
      "<class 'datetime.date'>\n",
      "0        16909 days\n",
      "1        19084 days\n",
      "2        19084 days\n",
      "3        19084 days\n",
      "4        17349 days\n",
      "            ...    \n",
      "127169    4435 days\n",
      "127170    4838 days\n",
      "127171    8521 days\n",
      "127172   11011 days\n",
      "127173    7928 days\n",
      "Name: anni, Length: 127174, dtype: timedelta64[ns]\n"
     ]
    }
   ],
   "source": [
    "today = datetime.date(2021,5,1) \n",
    "print(type(today))\n",
    "df['today'] = today \n",
    "\n",
    "df['anni'] = 0.0\n",
    "df['anni'] =  (df.today - df.min_date.dt.date)\n",
    "print(df.anni)\n",
    " "
   ]
  },
  {
   "cell_type": "code",
   "execution_count": 13,
   "metadata": {},
   "outputs": [
    {
     "output_type": "execute_result",
     "data": {
      "text/plain": [
       "                cf data_isc_ri data_isc_rd data_isc_aa data_ini_at  \\\n",
       "55165  02532430309  2008-07-02  2008-07-01         NaT  1800-01-01   \n",
       "4596   00267590321         NaT  1992-02-17         NaT  1829-11-11   \n",
       "67465  80001930306         NaT  1927-03-28         NaT  1881-01-01   \n",
       "39127  01738760303  1996-02-19  1991-09-11         NaT  1881-09-02   \n",
       "4072   00249360306  1996-02-19  1925-10-10         NaT  1887-02-01   \n",
       "...            ...         ...         ...         ...         ...   \n",
       "29441  01359640321  2021-04-13  2021-04-12         NaT         NaT   \n",
       "65910  03031730306  2021-04-13  2021-04-12         NaT         NaT   \n",
       "29414  01358950325  2021-04-13  2021-04-12         NaT         NaT   \n",
       "29450  01359920327  2021-04-12  2021-04-12         NaT         NaT   \n",
       "24321  01221350315  2021-04-13  2021-04-12         NaT         NaT   \n",
       "\n",
       "      data_apert_ul   min_date       today       anni  \n",
       "55165           NaT 1800-01-01  2021-05-01 80839 days  \n",
       "4596            NaT 1829-11-11  2021-05-01 69933 days  \n",
       "67465           NaT 1881-01-01  2021-05-01 51254 days  \n",
       "39127           NaT 1881-09-02  2021-05-01 51010 days  \n",
       "4072            NaT 1887-02-01  2021-05-01 49032 days  \n",
       "...             ...        ...         ...        ...  \n",
       "29441           NaT 2021-04-12  2021-05-01    19 days  \n",
       "65910           NaT 2021-04-12  2021-05-01    19 days  \n",
       "29414           NaT 2021-04-12  2021-05-01    19 days  \n",
       "29450           NaT 2021-04-12  2021-05-01    19 days  \n",
       "24321           NaT 2021-04-12  2021-05-01    19 days  \n",
       "\n",
       "[127174 rows x 9 columns]"
      ],
      "text/html": "<div>\n<style scoped>\n    .dataframe tbody tr th:only-of-type {\n        vertical-align: middle;\n    }\n\n    .dataframe tbody tr th {\n        vertical-align: top;\n    }\n\n    .dataframe thead th {\n        text-align: right;\n    }\n</style>\n<table border=\"1\" class=\"dataframe\">\n  <thead>\n    <tr style=\"text-align: right;\">\n      <th></th>\n      <th>cf</th>\n      <th>data_isc_ri</th>\n      <th>data_isc_rd</th>\n      <th>data_isc_aa</th>\n      <th>data_ini_at</th>\n      <th>data_apert_ul</th>\n      <th>min_date</th>\n      <th>today</th>\n      <th>anni</th>\n    </tr>\n  </thead>\n  <tbody>\n    <tr>\n      <th>55165</th>\n      <td>02532430309</td>\n      <td>2008-07-02</td>\n      <td>2008-07-01</td>\n      <td>NaT</td>\n      <td>1800-01-01</td>\n      <td>NaT</td>\n      <td>1800-01-01</td>\n      <td>2021-05-01</td>\n      <td>80839 days</td>\n    </tr>\n    <tr>\n      <th>4596</th>\n      <td>00267590321</td>\n      <td>NaT</td>\n      <td>1992-02-17</td>\n      <td>NaT</td>\n      <td>1829-11-11</td>\n      <td>NaT</td>\n      <td>1829-11-11</td>\n      <td>2021-05-01</td>\n      <td>69933 days</td>\n    </tr>\n    <tr>\n      <th>67465</th>\n      <td>80001930306</td>\n      <td>NaT</td>\n      <td>1927-03-28</td>\n      <td>NaT</td>\n      <td>1881-01-01</td>\n      <td>NaT</td>\n      <td>1881-01-01</td>\n      <td>2021-05-01</td>\n      <td>51254 days</td>\n    </tr>\n    <tr>\n      <th>39127</th>\n      <td>01738760303</td>\n      <td>1996-02-19</td>\n      <td>1991-09-11</td>\n      <td>NaT</td>\n      <td>1881-09-02</td>\n      <td>NaT</td>\n      <td>1881-09-02</td>\n      <td>2021-05-01</td>\n      <td>51010 days</td>\n    </tr>\n    <tr>\n      <th>4072</th>\n      <td>00249360306</td>\n      <td>1996-02-19</td>\n      <td>1925-10-10</td>\n      <td>NaT</td>\n      <td>1887-02-01</td>\n      <td>NaT</td>\n      <td>1887-02-01</td>\n      <td>2021-05-01</td>\n      <td>49032 days</td>\n    </tr>\n    <tr>\n      <th>...</th>\n      <td>...</td>\n      <td>...</td>\n      <td>...</td>\n      <td>...</td>\n      <td>...</td>\n      <td>...</td>\n      <td>...</td>\n      <td>...</td>\n      <td>...</td>\n    </tr>\n    <tr>\n      <th>29441</th>\n      <td>01359640321</td>\n      <td>2021-04-13</td>\n      <td>2021-04-12</td>\n      <td>NaT</td>\n      <td>NaT</td>\n      <td>NaT</td>\n      <td>2021-04-12</td>\n      <td>2021-05-01</td>\n      <td>19 days</td>\n    </tr>\n    <tr>\n      <th>65910</th>\n      <td>03031730306</td>\n      <td>2021-04-13</td>\n      <td>2021-04-12</td>\n      <td>NaT</td>\n      <td>NaT</td>\n      <td>NaT</td>\n      <td>2021-04-12</td>\n      <td>2021-05-01</td>\n      <td>19 days</td>\n    </tr>\n    <tr>\n      <th>29414</th>\n      <td>01358950325</td>\n      <td>2021-04-13</td>\n      <td>2021-04-12</td>\n      <td>NaT</td>\n      <td>NaT</td>\n      <td>NaT</td>\n      <td>2021-04-12</td>\n      <td>2021-05-01</td>\n      <td>19 days</td>\n    </tr>\n    <tr>\n      <th>29450</th>\n      <td>01359920327</td>\n      <td>2021-04-12</td>\n      <td>2021-04-12</td>\n      <td>NaT</td>\n      <td>NaT</td>\n      <td>NaT</td>\n      <td>2021-04-12</td>\n      <td>2021-05-01</td>\n      <td>19 days</td>\n    </tr>\n    <tr>\n      <th>24321</th>\n      <td>01221350315</td>\n      <td>2021-04-13</td>\n      <td>2021-04-12</td>\n      <td>NaT</td>\n      <td>NaT</td>\n      <td>NaT</td>\n      <td>2021-04-12</td>\n      <td>2021-05-01</td>\n      <td>19 days</td>\n    </tr>\n  </tbody>\n</table>\n<p>127174 rows × 9 columns</p>\n</div>"
     },
     "metadata": {},
     "execution_count": 13
    }
   ],
   "source": [
    "df.sort_values(by = 'anni', ascending=False, inplace = True)\n",
    "df"
   ]
  },
  {
   "cell_type": "code",
   "execution_count": 14,
   "metadata": {
    "tags": []
   },
   "outputs": [
    {
     "output_type": "stream",
     "name": "stdout",
     "text": [
      "127174\n103072\n"
     ]
    }
   ],
   "source": [
    "#semplice elenco di cf con duplicati\n",
    "cf_list_all = df['cf'].tolist()\n",
    "print(len(cf_list_all))\n",
    "\n",
    "#elenco cf senza duplicati\n",
    "cf_list_unique = df['cf'].unique().tolist()\n",
    "print(len(cf_list_unique))\n",
    "\n"
   ]
  },
  {
   "cell_type": "code",
   "execution_count": 15,
   "metadata": {},
   "outputs": [
    {
     "output_type": "stream",
     "name": "stdout",
     "text": [
      "127174\n"
     ]
    },
    {
     "output_type": "execute_result",
     "data": {
      "text/plain": [
       "cf               103072\n",
       "data_isc_ri        6438\n",
       "data_isc_rd       13797\n",
       "data_isc_aa        9801\n",
       "data_ini_at       15365\n",
       "data_apert_ul      7698\n",
       "min_date          15881\n",
       "today                 1\n",
       "anni              15881\n",
       "dtype: int64"
      ]
     },
     "metadata": {},
     "execution_count": 15
    }
   ],
   "source": [
    "print(df.shape[0])\n",
    "df.nunique()"
   ]
  },
  {
   "cell_type": "code",
   "execution_count": 16,
   "metadata": {},
   "outputs": [
    {
     "output_type": "execute_result",
     "data": {
      "text/plain": [
       "        id_impresa           cf data_isc_ri data_isc_rd data_isc_aa  \\\n",
       "0                1  02532430309  2008-07-02  2008-07-01         NaT   \n",
       "1                2  00267590321         NaT  1992-02-17         NaT   \n",
       "2                3  80001930306         NaT  1927-03-28         NaT   \n",
       "3                4  01738760303  1996-02-19  1991-09-11         NaT   \n",
       "4                5  00249360306  1996-02-19  1925-10-10         NaT   \n",
       "...            ...          ...         ...         ...         ...   \n",
       "127169      127170  01359640321  2021-04-13  2021-04-12         NaT   \n",
       "127170      127171  03031730306  2021-04-13  2021-04-12         NaT   \n",
       "127171      127172  01358950325  2021-04-13  2021-04-12         NaT   \n",
       "127172      127173  01359920327  2021-04-12  2021-04-12         NaT   \n",
       "127173      127174  01221350315  2021-04-13  2021-04-12         NaT   \n",
       "\n",
       "       data_ini_at data_apert_ul   min_date       today       anni  \n",
       "0       1800-01-01           NaT 1800-01-01  2021-05-01 80839 days  \n",
       "1       1829-11-11           NaT 1829-11-11  2021-05-01 69933 days  \n",
       "2       1881-01-01           NaT 1881-01-01  2021-05-01 51254 days  \n",
       "3       1881-09-02           NaT 1881-09-02  2021-05-01 51010 days  \n",
       "4       1887-02-01           NaT 1887-02-01  2021-05-01 49032 days  \n",
       "...            ...           ...        ...         ...        ...  \n",
       "127169         NaT           NaT 2021-04-12  2021-05-01    19 days  \n",
       "127170         NaT           NaT 2021-04-12  2021-05-01    19 days  \n",
       "127171         NaT           NaT 2021-04-12  2021-05-01    19 days  \n",
       "127172         NaT           NaT 2021-04-12  2021-05-01    19 days  \n",
       "127173         NaT           NaT 2021-04-12  2021-05-01    19 days  \n",
       "\n",
       "[127174 rows x 10 columns]"
      ],
      "text/html": "<div>\n<style scoped>\n    .dataframe tbody tr th:only-of-type {\n        vertical-align: middle;\n    }\n\n    .dataframe tbody tr th {\n        vertical-align: top;\n    }\n\n    .dataframe thead th {\n        text-align: right;\n    }\n</style>\n<table border=\"1\" class=\"dataframe\">\n  <thead>\n    <tr style=\"text-align: right;\">\n      <th></th>\n      <th>id_impresa</th>\n      <th>cf</th>\n      <th>data_isc_ri</th>\n      <th>data_isc_rd</th>\n      <th>data_isc_aa</th>\n      <th>data_ini_at</th>\n      <th>data_apert_ul</th>\n      <th>min_date</th>\n      <th>today</th>\n      <th>anni</th>\n    </tr>\n  </thead>\n  <tbody>\n    <tr>\n      <th>0</th>\n      <td>1</td>\n      <td>02532430309</td>\n      <td>2008-07-02</td>\n      <td>2008-07-01</td>\n      <td>NaT</td>\n      <td>1800-01-01</td>\n      <td>NaT</td>\n      <td>1800-01-01</td>\n      <td>2021-05-01</td>\n      <td>80839 days</td>\n    </tr>\n    <tr>\n      <th>1</th>\n      <td>2</td>\n      <td>00267590321</td>\n      <td>NaT</td>\n      <td>1992-02-17</td>\n      <td>NaT</td>\n      <td>1829-11-11</td>\n      <td>NaT</td>\n      <td>1829-11-11</td>\n      <td>2021-05-01</td>\n      <td>69933 days</td>\n    </tr>\n    <tr>\n      <th>2</th>\n      <td>3</td>\n      <td>80001930306</td>\n      <td>NaT</td>\n      <td>1927-03-28</td>\n      <td>NaT</td>\n      <td>1881-01-01</td>\n      <td>NaT</td>\n      <td>1881-01-01</td>\n      <td>2021-05-01</td>\n      <td>51254 days</td>\n    </tr>\n    <tr>\n      <th>3</th>\n      <td>4</td>\n      <td>01738760303</td>\n      <td>1996-02-19</td>\n      <td>1991-09-11</td>\n      <td>NaT</td>\n      <td>1881-09-02</td>\n      <td>NaT</td>\n      <td>1881-09-02</td>\n      <td>2021-05-01</td>\n      <td>51010 days</td>\n    </tr>\n    <tr>\n      <th>4</th>\n      <td>5</td>\n      <td>00249360306</td>\n      <td>1996-02-19</td>\n      <td>1925-10-10</td>\n      <td>NaT</td>\n      <td>1887-02-01</td>\n      <td>NaT</td>\n      <td>1887-02-01</td>\n      <td>2021-05-01</td>\n      <td>49032 days</td>\n    </tr>\n    <tr>\n      <th>...</th>\n      <td>...</td>\n      <td>...</td>\n      <td>...</td>\n      <td>...</td>\n      <td>...</td>\n      <td>...</td>\n      <td>...</td>\n      <td>...</td>\n      <td>...</td>\n      <td>...</td>\n    </tr>\n    <tr>\n      <th>127169</th>\n      <td>127170</td>\n      <td>01359640321</td>\n      <td>2021-04-13</td>\n      <td>2021-04-12</td>\n      <td>NaT</td>\n      <td>NaT</td>\n      <td>NaT</td>\n      <td>2021-04-12</td>\n      <td>2021-05-01</td>\n      <td>19 days</td>\n    </tr>\n    <tr>\n      <th>127170</th>\n      <td>127171</td>\n      <td>03031730306</td>\n      <td>2021-04-13</td>\n      <td>2021-04-12</td>\n      <td>NaT</td>\n      <td>NaT</td>\n      <td>NaT</td>\n      <td>2021-04-12</td>\n      <td>2021-05-01</td>\n      <td>19 days</td>\n    </tr>\n    <tr>\n      <th>127171</th>\n      <td>127172</td>\n      <td>01358950325</td>\n      <td>2021-04-13</td>\n      <td>2021-04-12</td>\n      <td>NaT</td>\n      <td>NaT</td>\n      <td>NaT</td>\n      <td>2021-04-12</td>\n      <td>2021-05-01</td>\n      <td>19 days</td>\n    </tr>\n    <tr>\n      <th>127172</th>\n      <td>127173</td>\n      <td>01359920327</td>\n      <td>2021-04-12</td>\n      <td>2021-04-12</td>\n      <td>NaT</td>\n      <td>NaT</td>\n      <td>NaT</td>\n      <td>2021-04-12</td>\n      <td>2021-05-01</td>\n      <td>19 days</td>\n    </tr>\n    <tr>\n      <th>127173</th>\n      <td>127174</td>\n      <td>01221350315</td>\n      <td>2021-04-13</td>\n      <td>2021-04-12</td>\n      <td>NaT</td>\n      <td>NaT</td>\n      <td>NaT</td>\n      <td>2021-04-12</td>\n      <td>2021-05-01</td>\n      <td>19 days</td>\n    </tr>\n  </tbody>\n</table>\n<p>127174 rows × 10 columns</p>\n</div>"
     },
     "metadata": {},
     "execution_count": 16
    }
   ],
   "source": [
    "df.reset_index(inplace=True)\n",
    "df.drop(columns = ['index'], inplace=True)\n",
    "df.reset_index(inplace=True)\n",
    "df.rename(columns={\"index\":\"id_impresa\"}, inplace=True)\n",
    "df.id_impresa += 1\n",
    "\n",
    "df"
   ]
  },
  {
   "cell_type": "code",
   "execution_count": 17,
   "metadata": {},
   "outputs": [
    {
     "output_type": "execute_result",
     "data": {
      "text/plain": [
       "        id_impresa           cf       anni\n",
       "0                1  02532430309 80839 days\n",
       "1                2  00267590321 69933 days\n",
       "2                3  80001930306 51254 days\n",
       "3                4  01738760303 51010 days\n",
       "4                5  00249360306 49032 days\n",
       "...            ...          ...        ...\n",
       "127169      127170  01359640321    19 days\n",
       "127170      127171  03031730306    19 days\n",
       "127171      127172  01358950325    19 days\n",
       "127172      127173  01359920327    19 days\n",
       "127173      127174  01221350315    19 days\n",
       "\n",
       "[127174 rows x 3 columns]"
      ],
      "text/html": "<div>\n<style scoped>\n    .dataframe tbody tr th:only-of-type {\n        vertical-align: middle;\n    }\n\n    .dataframe tbody tr th {\n        vertical-align: top;\n    }\n\n    .dataframe thead th {\n        text-align: right;\n    }\n</style>\n<table border=\"1\" class=\"dataframe\">\n  <thead>\n    <tr style=\"text-align: right;\">\n      <th></th>\n      <th>id_impresa</th>\n      <th>cf</th>\n      <th>anni</th>\n    </tr>\n  </thead>\n  <tbody>\n    <tr>\n      <th>0</th>\n      <td>1</td>\n      <td>02532430309</td>\n      <td>80839 days</td>\n    </tr>\n    <tr>\n      <th>1</th>\n      <td>2</td>\n      <td>00267590321</td>\n      <td>69933 days</td>\n    </tr>\n    <tr>\n      <th>2</th>\n      <td>3</td>\n      <td>80001930306</td>\n      <td>51254 days</td>\n    </tr>\n    <tr>\n      <th>3</th>\n      <td>4</td>\n      <td>01738760303</td>\n      <td>51010 days</td>\n    </tr>\n    <tr>\n      <th>4</th>\n      <td>5</td>\n      <td>00249360306</td>\n      <td>49032 days</td>\n    </tr>\n    <tr>\n      <th>...</th>\n      <td>...</td>\n      <td>...</td>\n      <td>...</td>\n    </tr>\n    <tr>\n      <th>127169</th>\n      <td>127170</td>\n      <td>01359640321</td>\n      <td>19 days</td>\n    </tr>\n    <tr>\n      <th>127170</th>\n      <td>127171</td>\n      <td>03031730306</td>\n      <td>19 days</td>\n    </tr>\n    <tr>\n      <th>127171</th>\n      <td>127172</td>\n      <td>01358950325</td>\n      <td>19 days</td>\n    </tr>\n    <tr>\n      <th>127172</th>\n      <td>127173</td>\n      <td>01359920327</td>\n      <td>19 days</td>\n    </tr>\n    <tr>\n      <th>127173</th>\n      <td>127174</td>\n      <td>01221350315</td>\n      <td>19 days</td>\n    </tr>\n  </tbody>\n</table>\n<p>127174 rows × 3 columns</p>\n</div>"
     },
     "metadata": {},
     "execution_count": 17
    }
   ],
   "source": [
    "df.drop(columns = cols_date, inplace=True)\n",
    "df.drop(columns = ['min_date', 'today'], inplace=True)\n",
    "df"
   ]
  },
  {
   "cell_type": "code",
   "execution_count": 18,
   "metadata": {},
   "outputs": [],
   "source": [
    "file_risultati  = data_dir + '\\\\' + 'insiel_pseudon_cf.csv'\n",
    "df.to_csv(file_risultati, \n",
    "                    sep ='|',   \n",
    "                    encoding='utf-8-sig', \n",
    "                    index=False)"
   ]
  },
  {
   "cell_type": "code",
   "execution_count": 19,
   "metadata": {},
   "outputs": [
    {
     "output_type": "execute_result",
     "data": {
      "text/plain": [
       "                 cf       anni\n",
       "0       02532430309 80839 days\n",
       "1       00267590321 69933 days\n",
       "2       80001930306 51254 days\n",
       "3       01738760303 51010 days\n",
       "4       00249360306 49032 days\n",
       "...             ...        ...\n",
       "127169  01359640321    19 days\n",
       "127170  03031730306    19 days\n",
       "127171  01358950325    19 days\n",
       "127172  01359920327    19 days\n",
       "127173  01221350315    19 days\n",
       "\n",
       "[103072 rows x 2 columns]"
      ],
      "text/html": "<div>\n<style scoped>\n    .dataframe tbody tr th:only-of-type {\n        vertical-align: middle;\n    }\n\n    .dataframe tbody tr th {\n        vertical-align: top;\n    }\n\n    .dataframe thead th {\n        text-align: right;\n    }\n</style>\n<table border=\"1\" class=\"dataframe\">\n  <thead>\n    <tr style=\"text-align: right;\">\n      <th></th>\n      <th>cf</th>\n      <th>anni</th>\n    </tr>\n  </thead>\n  <tbody>\n    <tr>\n      <th>0</th>\n      <td>02532430309</td>\n      <td>80839 days</td>\n    </tr>\n    <tr>\n      <th>1</th>\n      <td>00267590321</td>\n      <td>69933 days</td>\n    </tr>\n    <tr>\n      <th>2</th>\n      <td>80001930306</td>\n      <td>51254 days</td>\n    </tr>\n    <tr>\n      <th>3</th>\n      <td>01738760303</td>\n      <td>51010 days</td>\n    </tr>\n    <tr>\n      <th>4</th>\n      <td>00249360306</td>\n      <td>49032 days</td>\n    </tr>\n    <tr>\n      <th>...</th>\n      <td>...</td>\n      <td>...</td>\n    </tr>\n    <tr>\n      <th>127169</th>\n      <td>01359640321</td>\n      <td>19 days</td>\n    </tr>\n    <tr>\n      <th>127170</th>\n      <td>03031730306</td>\n      <td>19 days</td>\n    </tr>\n    <tr>\n      <th>127171</th>\n      <td>01358950325</td>\n      <td>19 days</td>\n    </tr>\n    <tr>\n      <th>127172</th>\n      <td>01359920327</td>\n      <td>19 days</td>\n    </tr>\n    <tr>\n      <th>127173</th>\n      <td>01221350315</td>\n      <td>19 days</td>\n    </tr>\n  </tbody>\n</table>\n<p>103072 rows × 2 columns</p>\n</div>"
     },
     "metadata": {},
     "execution_count": 19
    }
   ],
   "source": [
    "df.drop_duplicates(subset=['cf'], inplace=True)\n",
    "df.drop(columns = ['id_impresa'], inplace=True)\n",
    "df"
   ]
  },
  {
   "cell_type": "code",
   "execution_count": 20,
   "metadata": {},
   "outputs": [
    {
     "output_type": "execute_result",
     "data": {
      "text/plain": [
       "                 cf       anni\n",
       "0       02532430309 80839 days\n",
       "1       00267590321 69933 days\n",
       "2       80001930306 51254 days\n",
       "3       01738760303 51010 days\n",
       "4       00249360306 49032 days\n",
       "...             ...        ...\n",
       "127169  01359640321    19 days\n",
       "127170  03031730306    19 days\n",
       "127171  01358950325    19 days\n",
       "127172  01359920327    19 days\n",
       "127173  01221350315    19 days\n",
       "\n",
       "[103072 rows x 2 columns]"
      ],
      "text/html": "<div>\n<style scoped>\n    .dataframe tbody tr th:only-of-type {\n        vertical-align: middle;\n    }\n\n    .dataframe tbody tr th {\n        vertical-align: top;\n    }\n\n    .dataframe thead th {\n        text-align: right;\n    }\n</style>\n<table border=\"1\" class=\"dataframe\">\n  <thead>\n    <tr style=\"text-align: right;\">\n      <th></th>\n      <th>cf</th>\n      <th>anni</th>\n    </tr>\n  </thead>\n  <tbody>\n    <tr>\n      <th>0</th>\n      <td>02532430309</td>\n      <td>80839 days</td>\n    </tr>\n    <tr>\n      <th>1</th>\n      <td>00267590321</td>\n      <td>69933 days</td>\n    </tr>\n    <tr>\n      <th>2</th>\n      <td>80001930306</td>\n      <td>51254 days</td>\n    </tr>\n    <tr>\n      <th>3</th>\n      <td>01738760303</td>\n      <td>51010 days</td>\n    </tr>\n    <tr>\n      <th>4</th>\n      <td>00249360306</td>\n      <td>49032 days</td>\n    </tr>\n    <tr>\n      <th>...</th>\n      <td>...</td>\n      <td>...</td>\n    </tr>\n    <tr>\n      <th>127169</th>\n      <td>01359640321</td>\n      <td>19 days</td>\n    </tr>\n    <tr>\n      <th>127170</th>\n      <td>03031730306</td>\n      <td>19 days</td>\n    </tr>\n    <tr>\n      <th>127171</th>\n      <td>01358950325</td>\n      <td>19 days</td>\n    </tr>\n    <tr>\n      <th>127172</th>\n      <td>01359920327</td>\n      <td>19 days</td>\n    </tr>\n    <tr>\n      <th>127173</th>\n      <td>01221350315</td>\n      <td>19 days</td>\n    </tr>\n  </tbody>\n</table>\n<p>103072 rows × 2 columns</p>\n</div>"
     },
     "metadata": {},
     "execution_count": 20
    }
   ],
   "source": [
    "df"
   ]
  },
  {
   "cell_type": "code",
   "execution_count": 21,
   "metadata": {},
   "outputs": [],
   "source": [
    "df.reset_index(inplace=True)\n",
    "df.rename(columns={\"index\":\"id_impresa\"}, inplace=True)\n",
    "df.id_impresa += 1\n",
    "file_risultati  = data_dir + '\\\\' + 'insiel_pseudon_cf_unique.csv'\n",
    "df.to_csv(file_risultati, \n",
    "                    sep ='|',   \n",
    "                    encoding='utf-8-sig', \n",
    "                    index=False)"
   ]
  },
  {
   "cell_type": "code",
   "execution_count": 22,
   "metadata": {},
   "outputs": [
    {
     "output_type": "execute_result",
     "data": {
      "text/plain": [
       "        id_impresa           cf       anni\n",
       "0                1  02532430309 80839 days\n",
       "1                2  00267590321 69933 days\n",
       "2                3  80001930306 51254 days\n",
       "3                4  01738760303 51010 days\n",
       "4                5  00249360306 49032 days\n",
       "...            ...          ...        ...\n",
       "103067      127170  01359640321    19 days\n",
       "103068      127171  03031730306    19 days\n",
       "103069      127172  01358950325    19 days\n",
       "103070      127173  01359920327    19 days\n",
       "103071      127174  01221350315    19 days\n",
       "\n",
       "[103072 rows x 3 columns]"
      ],
      "text/html": "<div>\n<style scoped>\n    .dataframe tbody tr th:only-of-type {\n        vertical-align: middle;\n    }\n\n    .dataframe tbody tr th {\n        vertical-align: top;\n    }\n\n    .dataframe thead th {\n        text-align: right;\n    }\n</style>\n<table border=\"1\" class=\"dataframe\">\n  <thead>\n    <tr style=\"text-align: right;\">\n      <th></th>\n      <th>id_impresa</th>\n      <th>cf</th>\n      <th>anni</th>\n    </tr>\n  </thead>\n  <tbody>\n    <tr>\n      <th>0</th>\n      <td>1</td>\n      <td>02532430309</td>\n      <td>80839 days</td>\n    </tr>\n    <tr>\n      <th>1</th>\n      <td>2</td>\n      <td>00267590321</td>\n      <td>69933 days</td>\n    </tr>\n    <tr>\n      <th>2</th>\n      <td>3</td>\n      <td>80001930306</td>\n      <td>51254 days</td>\n    </tr>\n    <tr>\n      <th>3</th>\n      <td>4</td>\n      <td>01738760303</td>\n      <td>51010 days</td>\n    </tr>\n    <tr>\n      <th>4</th>\n      <td>5</td>\n      <td>00249360306</td>\n      <td>49032 days</td>\n    </tr>\n    <tr>\n      <th>...</th>\n      <td>...</td>\n      <td>...</td>\n      <td>...</td>\n    </tr>\n    <tr>\n      <th>103067</th>\n      <td>127170</td>\n      <td>01359640321</td>\n      <td>19 days</td>\n    </tr>\n    <tr>\n      <th>103068</th>\n      <td>127171</td>\n      <td>03031730306</td>\n      <td>19 days</td>\n    </tr>\n    <tr>\n      <th>103069</th>\n      <td>127172</td>\n      <td>01358950325</td>\n      <td>19 days</td>\n    </tr>\n    <tr>\n      <th>103070</th>\n      <td>127173</td>\n      <td>01359920327</td>\n      <td>19 days</td>\n    </tr>\n    <tr>\n      <th>103071</th>\n      <td>127174</td>\n      <td>01221350315</td>\n      <td>19 days</td>\n    </tr>\n  </tbody>\n</table>\n<p>103072 rows × 3 columns</p>\n</div>"
     },
     "metadata": {},
     "execution_count": 22
    }
   ],
   "source": [
    "df"
   ]
  },
  {
   "cell_type": "code",
   "execution_count": null,
   "metadata": {},
   "outputs": [],
   "source": []
  }
 ],
 "metadata": {
  "kernelspec": {
   "name": "python394jvsc74a57bd046c56b00a886f01d69e776668ca12acc0de9f7c8f388e5060811cd7865d8f9b3",
   "display_name": "Python 3.9.4 64-bit"
  },
  "language_info": {
   "codemirror_mode": {
    "name": "ipython",
    "version": 3
   },
   "file_extension": ".py",
   "mimetype": "text/x-python",
   "name": "python",
   "nbconvert_exporter": "python",
   "pygments_lexer": "ipython3",
   "version": "3.9.4"
  },
  "latex_envs": {
   "LaTeX_envs_menu_present": true,
   "autoclose": false,
   "autocomplete": true,
   "bibliofile": "biblio.bib",
   "cite_by": "apalike",
   "current_citInitial": 1,
   "eqLabelWithNumbers": true,
   "eqNumInitial": 1,
   "hotkeys": {
    "equation": "Ctrl-E",
    "itemize": "Ctrl-I"
   },
   "labels_anchors": false,
   "latex_user_defs": false,
   "report_style_numbering": false,
   "user_envs_cfg": false
  },
  "toc": {
   "base_numbering": 1,
   "nav_menu": {},
   "number_sections": true,
   "sideBar": true,
   "skip_h1_title": false,
   "title_cell": "Table of Contents",
   "title_sidebar": "Contents",
   "toc_cell": false,
   "toc_position": {},
   "toc_section_display": true,
   "toc_window_display": false
  },
  "toc-autonumbering": true,
  "toc-showcode": false,
  "toc-showmarkdowntxt": false,
  "toc-showtags": false,
  "metadata": {
   "interpreter": {
    "hash": "46c56b00a886f01d69e776668ca12acc0de9f7c8f388e5060811cd7865d8f9b3"
   }
  }
 },
 "nbformat": 4,
 "nbformat_minor": 4
}